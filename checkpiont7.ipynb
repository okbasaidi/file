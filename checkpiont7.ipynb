{
 "cells": [
  {
   "cell_type": "code",
   "execution_count": 22,
   "id": "f9a728a6",
   "metadata": {},
   "outputs": [],
   "source": [
    "# creat a new file and write in it\n",
    "with open('check.txt','w')as f:\n",
    "    f.write('for the new line\\n')\n",
    "    f.write('hello from gomycode\\n')\n",
    "    f.write('python programing\\n')\n",
    "    "
   ]
  },
  {
   "cell_type": "code",
   "execution_count": 28,
   "id": "8f514823",
   "metadata": {},
   "outputs": [
    {
     "name": "stdout",
     "output_type": "stream",
     "text": [
      "for the new line\n",
      "hello from gomycode\n",
      "python programing\n"
     ]
    },
    {
     "data": {
      "text/plain": [
       "''"
      ]
     },
     "execution_count": 28,
     "metadata": {},
     "output_type": "execute_result"
    }
   ],
   "source": [
    "#reaf the file\n",
    "f=open('check.txt','r')\n",
    "for line in f:\n",
    "    print(line,end='')\n"
   ]
  },
  {
   "cell_type": "code",
   "execution_count": 41,
   "id": "8e712b0d",
   "metadata": {},
   "outputs": [
    {
     "name": "stdout",
     "output_type": "stream",
     "text": [
      "for the new line\n",
      "hello from gomycode\n"
     ]
    }
   ],
   "source": [
    "#reading a specific line\n",
    "f=open('check.txt','r')\n",
    "n=0\n",
    "for line in f:\n",
    "    if (n<=1):\n",
    "        print(line,end='')\n",
    "    n=n+1\n",
    "    \n",
    "    "
   ]
  },
  {
   "cell_type": "code",
   "execution_count": 67,
   "id": "08477841",
   "metadata": {},
   "outputs": [
    {
     "name": "stdout",
     "output_type": "stream",
     "text": [
      "python programing\n",
      "\n"
     ]
    }
   ],
   "source": [
    "#read the last line\n",
    "f=open('check.txt','r')\n",
    "for line in (f.readlines() [-1:]):\n",
    "    print(line)"
   ]
  },
  {
   "cell_type": "code",
   "execution_count": 6,
   "id": "c10be8ca",
   "metadata": {},
   "outputs": [
    {
     "name": "stdout",
     "output_type": "stream",
     "text": [
      "9\n"
     ]
    }
   ],
   "source": [
    "#count the number of words in file\n",
    "with open('check.txt','r+') as f:\n",
    "    lines=f.read()\n",
    "    words=lines.split()\n",
    "print(len(words))"
   ]
  },
  {
   "cell_type": "code",
   "execution_count": null,
   "id": "cedb580f",
   "metadata": {},
   "outputs": [],
   "source": []
  }
 ],
 "metadata": {
  "kernelspec": {
   "display_name": "Python 3 (ipykernel)",
   "language": "python",
   "name": "python3"
  },
  "language_info": {
   "codemirror_mode": {
    "name": "ipython",
    "version": 3
   },
   "file_extension": ".py",
   "mimetype": "text/x-python",
   "name": "python",
   "nbconvert_exporter": "python",
   "pygments_lexer": "ipython3",
   "version": "3.9.7"
  }
 },
 "nbformat": 4,
 "nbformat_minor": 5
}
